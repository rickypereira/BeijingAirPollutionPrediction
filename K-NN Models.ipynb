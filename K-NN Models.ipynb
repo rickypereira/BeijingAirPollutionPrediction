{
 "cells": [
  {
   "cell_type": "code",
   "execution_count": 1,
   "metadata": {},
   "outputs": [],
   "source": [
    "import pandas as pd\n",
    "import numpy as np\n",
    "import joblib\n",
    "import glob\n",
    "from math import sqrt\n",
    "\n",
    "from sklearn.metrics import mean_squared_error\n",
    "from sklearn.metrics import mean_absolute_error\n",
    "from sklearn.neighbors import KNeighborsRegressor\n",
    "from sklearn.model_selection import train_test_split\n",
    "from sklearn.model_selection import GridSearchCV\n",
    "from sklearn.decomposition import PCA\n",
    "import matplotlib.pyplot as plt\n",
    "from scipy.stats import ttest_ind, shapiro\n",
    "\n",
    "from statsmodels.graphics.gofplots import qqplot\n",
    "from matplotlib import pyplot"
   ]
  },
  {
   "cell_type": "markdown",
   "metadata": {},
   "source": [
    "# Single Variable Prediction"
   ]
  },
  {
   "cell_type": "code",
   "execution_count": 77,
   "metadata": {},
   "outputs": [],
   "source": [
    "### Loading up Variables:\n",
    "def get_data(pollutant, city):\n",
    "    train_X = joblib.load(\"data/train/{}/X/{}.joblib\".format(pollutant, city))\n",
    "    train_y = joblib.load(\"data/train/{}/y/{}.joblib\".format(pollutant, city))\n",
    "    valid_X = joblib.load(\"data/valid/{}/X/{}.joblib\".format(pollutant, city))\n",
    "    valid_y = joblib.load(\"data/valid/{}/y/{}.joblib\".format(pollutant, city))\n",
    "    test_X = joblib.load(\"data/test/{}/X/{}.joblib\".format(pollutant, city))\n",
    "    test_y = joblib.load(\"data/test/{}/y/{}.joblib\".format(pollutant, city))\n",
    "\n",
    "    return (train_X, train_y, valid_X, valid_y, test_X, test_y)\n",
    "\n",
    "def get_unsplit_data(city):\n",
    "    return joblib.load(\"data/full_splits/{}.joblib\".format(city))\n",
    "\n",
    "def idx2CityName(idx):\n",
    "    mapping = {0 : 'Aotizhongxin', \n",
    "     1 : 'Changping',\n",
    "     2 : 'Dingling',\n",
    "     3 : 'Dongsi',\n",
    "     4 : 'Guanyuan',\n",
    "     5 : 'Gucheng',\n",
    "     6 : 'Huairou',\n",
    "     7 : 'Nongzhanguan',\n",
    "     8 : 'Shunyi',\n",
    "     9 : 'Tiantan',\n",
    "     10 : 'Wanliu',\n",
    "     11 : 'Wanshouxigong'}\n",
    "    \n",
    "    return mapping[idx]\n",
    "\n",
    "def cityName2Idx(cityName):\n",
    "    mapping = {'Aotizhongxin' : 0, \n",
    "     'Changping' : 1,\n",
    "     'Dingling' : 2,\n",
    "     'Dongsi' : 3,\n",
    "     'Guanyuan' : 4,\n",
    "     'Gucheng' : 5,\n",
    "     'Huairou' : 6,\n",
    "     'Nongzhanguan' : 7,\n",
    "     'Shunyi' : 8,\n",
    "     'Tiantan' : 9,\n",
    "     'Wanliu' : 10,\n",
    "     'Wanshouxigong' : 11}\n",
    "    \n",
    "    return mapping[cityName]\n",
    "\n",
    "def split(df, resp_col):\n",
    "    cols = df.columns\n",
    "    pred_cols = [pred_col for pred_col in cols if pred_col is not resp_col]\n",
    "    X = df[pred_cols]\n",
    "    y = df[resp_col]\n",
    "    \n",
    "    \n",
    "    return X, y\n",
    "\n",
    "def perform_grid_search_cross_validation(model, X_train, y_train, grid_param, scoring='accuracy', cv=5, n_jobs=1):\n",
    "    gd_sr = GridSearchCV(estimator=model, param_grid=grid_param, scoring=scoring, cv=cv, n_jobs=n_jobs)\n",
    "    gd_sr.fit(X_train, y_train)\n",
    "    return gd_sr.best_params_\n",
    "    \n",
    "\n",
    "def validate_prediction(y, y_pred):\n",
    "    mse = mean_squared_error(y, y_pred)\n",
    "    mae = mean_absolute_error(y, y_pred)\n",
    "\n",
    "    return \"mse = {mse} & mae = {mae} & rmse = {rmse}\".format(mse=mse, mae=mae, rmse=sqrt(mse))"
   ]
  },
  {
   "cell_type": "markdown",
   "metadata": {},
   "source": [
    "### Pollutant: SO2"
   ]
  },
  {
   "cell_type": "code",
   "execution_count": 15,
   "metadata": {},
   "outputs": [],
   "source": [
    "dfs = []\n",
    "for idx in range(0,12):\n",
    "    df = get_unsplit_data(\"SO2\", idx2CityName(idx))\n",
    "    dfs.append(df)\n",
    "full_dataset = pd.concat(dfs)\n",
    "\n",
    "#full_dataset = pd.get_dummies(full_dataset, columns=['station', 'wd'])\n",
    "full_dataset.drop(['timestamp', 'station', 'wd'],inplace=True,axis=1)"
   ]
  },
  {
   "cell_type": "code",
   "execution_count": 21,
   "metadata": {},
   "outputs": [
    {
     "name": "stdout",
     "output_type": "stream",
     "text": [
      "[0.56505509 0.20918635 0.07549117 0.0474487  0.0355171 ]\n"
     ]
    },
    {
     "data": {
      "text/plain": [
       "Index(['PM2.5', 'SO2', 'NO2', 'CO', 'O3', 'TEMP', 'PRES', 'DEWP', 'WSPM'], dtype='object')"
      ]
     },
     "execution_count": 21,
     "metadata": {},
     "output_type": "execute_result"
    }
   ],
   "source": [
    "X, y = split(full_dataset, \"SO2\")"
   ]
  },
  {
   "cell_type": "code",
   "execution_count": 22,
   "metadata": {},
   "outputs": [],
   "source": [
    "X_train, X_test, y_train, y_test = train_test_split(X, y, test_size=0.2, random_state=1)\n",
    "X_train, X_val, y_train, y_val = train_test_split(X_train, y_train, test_size=0.2, random_state=1)"
   ]
  },
  {
   "cell_type": "code",
   "execution_count": 48,
   "metadata": {},
   "outputs": [
    {
     "data": {
      "text/plain": [
       "KNeighborsRegressor(algorithm='auto', leaf_size=30, metric='minkowski',\n",
       "                    metric_params=None, n_jobs=3, n_neighbors=6, p=2,\n",
       "                    weights='uniform')"
      ]
     },
     "execution_count": 48,
     "metadata": {},
     "output_type": "execute_result"
    }
   ],
   "source": [
    "neigh = KNeighborsRegressor(n_neighbors=6, n_jobs=3)\n",
    "neigh.fit(X_train, y_train)"
   ]
  },
  {
   "cell_type": "code",
   "execution_count": 49,
   "metadata": {},
   "outputs": [
    {
     "name": "stdout",
     "output_type": "stream",
     "text": [
      "Train: mse = 0.000105577988425563 & mae = 0.0069512517818035476 & rmse = 0.010275115007899571\n",
      "Validation: mse = 0.00015140292917303636 & mae = 0.008400112651478624 & rmse = 0.012304589760452657\n"
     ]
    }
   ],
   "source": [
    "y_pred = neigh.predict(X_val)\n",
    "\n",
    "errors_on_train = validate_prediction(y_train, neigh.predict(X_train))\n",
    "errors_on_val = validate_prediction(y_val, y_pred)\n",
    "print(\"Train: {}\".format(errors_on_train))\n",
    "print(\"Validation: {}\".format(errors_on_val))"
   ]
  },
  {
   "cell_type": "code",
   "execution_count": 47,
   "metadata": {},
   "outputs": [
    {
     "data": {
      "text/plain": [
       "{'n_neighbors': 6}"
      ]
     },
     "execution_count": 47,
     "metadata": {},
     "output_type": "execute_result"
    }
   ],
   "source": [
    "neigh = KNeighborsRegressor()\n",
    "parameters = {'n_neighbors':list(range(5,12))}\n",
    "\n",
    "perform_grid_search_cross_validation(neigh, X_train, y_train, parameters, scoring='r2', cv=5, n_jobs=5)"
   ]
  },
  {
   "cell_type": "code",
   "execution_count": 50,
   "metadata": {},
   "outputs": [
    {
     "data": {
      "text/html": [
       "<div>\n",
       "<style scoped>\n",
       "    .dataframe tbody tr th:only-of-type {\n",
       "        vertical-align: middle;\n",
       "    }\n",
       "\n",
       "    .dataframe tbody tr th {\n",
       "        vertical-align: top;\n",
       "    }\n",
       "\n",
       "    .dataframe thead th {\n",
       "        text-align: right;\n",
       "    }\n",
       "</style>\n",
       "<table border=\"1\" class=\"dataframe\">\n",
       "  <thead>\n",
       "    <tr style=\"text-align: right;\">\n",
       "      <th></th>\n",
       "      <th>PM2.5</th>\n",
       "      <th>SO2</th>\n",
       "      <th>NO2</th>\n",
       "      <th>CO</th>\n",
       "      <th>O3</th>\n",
       "      <th>TEMP</th>\n",
       "      <th>PRES</th>\n",
       "      <th>DEWP</th>\n",
       "      <th>WSPM</th>\n",
       "    </tr>\n",
       "  </thead>\n",
       "  <tbody>\n",
       "    <tr>\n",
       "      <th>2337</th>\n",
       "      <td>0.159128</td>\n",
       "      <td>0.149190</td>\n",
       "      <td>0.472656</td>\n",
       "      <td>0.121212</td>\n",
       "      <td>0.003137</td>\n",
       "      <td>0.613126</td>\n",
       "      <td>0.371585</td>\n",
       "      <td>0.834633</td>\n",
       "      <td>0.066667</td>\n",
       "    </tr>\n",
       "    <tr>\n",
       "      <th>18994</th>\n",
       "      <td>0.220903</td>\n",
       "      <td>0.103065</td>\n",
       "      <td>0.306273</td>\n",
       "      <td>0.151515</td>\n",
       "      <td>0.150816</td>\n",
       "      <td>0.683938</td>\n",
       "      <td>0.320583</td>\n",
       "      <td>0.778471</td>\n",
       "      <td>0.085714</td>\n",
       "    </tr>\n",
       "    <tr>\n",
       "      <th>26674</th>\n",
       "      <td>0.233485</td>\n",
       "      <td>0.229358</td>\n",
       "      <td>0.294026</td>\n",
       "      <td>0.181818</td>\n",
       "      <td>0.077605</td>\n",
       "      <td>0.437931</td>\n",
       "      <td>0.493530</td>\n",
       "      <td>0.513644</td>\n",
       "      <td>0.090000</td>\n",
       "    </tr>\n",
       "    <tr>\n",
       "      <th>13230</th>\n",
       "      <td>0.008939</td>\n",
       "      <td>0.005032</td>\n",
       "      <td>0.201389</td>\n",
       "      <td>0.050505</td>\n",
       "      <td>0.004224</td>\n",
       "      <td>0.581152</td>\n",
       "      <td>0.361854</td>\n",
       "      <td>0.811912</td>\n",
       "      <td>0.098214</td>\n",
       "    </tr>\n",
       "    <tr>\n",
       "      <th>13267</th>\n",
       "      <td>0.038153</td>\n",
       "      <td>0.013913</td>\n",
       "      <td>0.148594</td>\n",
       "      <td>0.113402</td>\n",
       "      <td>0.432621</td>\n",
       "      <td>0.768293</td>\n",
       "      <td>0.228471</td>\n",
       "      <td>0.804075</td>\n",
       "      <td>0.113636</td>\n",
       "    </tr>\n",
       "  </tbody>\n",
       "</table>\n",
       "</div>"
      ],
      "text/plain": [
       "          PM2.5       SO2       NO2        CO        O3      TEMP      PRES  \\\n",
       "2337   0.159128  0.149190  0.472656  0.121212  0.003137  0.613126  0.371585   \n",
       "18994  0.220903  0.103065  0.306273  0.151515  0.150816  0.683938  0.320583   \n",
       "26674  0.233485  0.229358  0.294026  0.181818  0.077605  0.437931  0.493530   \n",
       "13230  0.008939  0.005032  0.201389  0.050505  0.004224  0.581152  0.361854   \n",
       "13267  0.038153  0.013913  0.148594  0.113402  0.432621  0.768293  0.228471   \n",
       "\n",
       "           DEWP      WSPM  \n",
       "2337   0.834633  0.066667  \n",
       "18994  0.778471  0.085714  \n",
       "26674  0.513644  0.090000  \n",
       "13230  0.811912  0.098214  \n",
       "13267  0.804075  0.113636  "
      ]
     },
     "execution_count": 50,
     "metadata": {},
     "output_type": "execute_result"
    }
   ],
   "source": [
    "X_train.head()"
   ]
  },
  {
   "cell_type": "code",
   "execution_count": 51,
   "metadata": {},
   "outputs": [],
   "source": [
    "training_res = y_train - neigh.predict(X_train)\n",
    "holdout_res = y_val - y_pred"
   ]
  },
  {
   "cell_type": "code",
   "execution_count": 55,
   "metadata": {},
   "outputs": [
    {
     "data": {
      "image/png": "[encoded data removed]",
      "text/plain": [
       "<Figure size 432x288 with 1 Axes>"
      ]
     },
     "metadata": {
      "needs_background": "light"
     },
     "output_type": "display_data"
    }
   ],
   "source": [
    "# Plotting Residuals \n",
    "plt.scatter(y_val, y_pred)\n",
    "plt.xlabel('Actual Value')\n",
    "plt.ylabel('Predicted Value')\n",
    "plt.show()"
   ]
  },
  {
   "cell_type": "code",
   "execution_count": 58,
   "metadata": {},
   "outputs": [
    {
     "data": {
      "text/plain": [
       "Ttest_indResult(statistic=4.57491981942156, pvalue=4.768264293942768e-06)"
      ]
     },
     "execution_count": 58,
     "metadata": {},
     "output_type": "execute_result"
    }
   ],
   "source": [
    "## T-Test and F-Test \n",
    "print(ttest_ind(y_val,y_pred))"
   ]
  },
  {
   "cell_type": "code",
   "execution_count": 70,
   "metadata": {},
   "outputs": [
    {
     "data": {
      "image/png": "[encoded data removed]",
      "text/plain": [
       "<Figure size 432x288 with 1 Axes>"
      ]
     },
     "metadata": {
      "needs_background": "light"
     },
     "output_type": "display_data"
    }
   ],
   "source": [
    "# q-q plot\n",
    "qqplot(holdout_res, line='r')\n",
    "pyplot.show()"
   ]
  },
  {
   "cell_type": "markdown",
   "metadata": {},
   "source": [
    "### Pollutant: NO2"
   ]
  },
  {
   "cell_type": "code",
   "execution_count": 71,
   "metadata": {},
   "outputs": [],
   "source": [
    "dfs = []\n",
    "for idx in range(0,12):\n",
    "    df = get_unsplit_data(\"NO2\", idx2CityName(idx))\n",
    "    dfs.append(df)\n",
    "full_dataset = pd.concat(dfs)\n",
    "\n",
    "#full_dataset = pd.get_dummies(full_dataset, columns=['station', 'wd'])\n",
    "full_dataset.drop(['timestamp', 'station', 'wd'],inplace=True,axis=1)"
   ]
  },
  {
   "cell_type": "code",
   "execution_count": 72,
   "metadata": {},
   "outputs": [],
   "source": [
    "X, y = split(full_dataset, \"NO2\")"
   ]
  },
  {
   "cell_type": "code",
   "execution_count": 73,
   "metadata": {},
   "outputs": [],
   "source": [
    "X_train, X_test, y_train, y_test = train_test_split(X, y, test_size=0.2, random_state=1)\n",
    "X_train, X_val, y_train, y_val = train_test_split(X_train, y_train, test_size=0.2, random_state=1)"
   ]
  },
  {
   "cell_type": "code",
   "execution_count": 74,
   "metadata": {},
   "outputs": [
    {
     "data": {
      "text/plain": [
       "KNeighborsRegressor(algorithm='auto', leaf_size=30, metric='minkowski',\n",
       "                    metric_params=None, n_jobs=3, n_neighbors=6, p=2,\n",
       "                    weights='uniform')"
      ]
     },
     "execution_count": 74,
     "metadata": {},
     "output_type": "execute_result"
    }
   ],
   "source": [
    "neigh = KNeighborsRegressor(n_neighbors=6, n_jobs=3)\n",
    "neigh.fit(X_train, y_train)"
   ]
  },
  {
   "cell_type": "code",
   "execution_count": 75,
   "metadata": {},
   "outputs": [
    {
     "name": "stdout",
     "output_type": "stream",
     "text": [
      "Train: mse = 0.00012673917106321127 & mae = 0.00831020689763928 & rmse = 0.011257849308958229\n",
      "Validation: mse = 0.00018032407247466452 & mae = 0.009849363209637297 & rmse = 0.013428479901860245\n",
      "{'n_neighbors': 9}\n"
     ]
    }
   ],
   "source": [
    "y_pred = neigh.predict(X_val)\n",
    "\n",
    "errors_on_train = validate_prediction(y_train, neigh.predict(X_train))\n",
    "errors_on_val = validate_prediction(y_val, y_pred)\n",
    "print(\"Train: {}\".format(errors_on_train))\n",
    "print(\"Validation: {}\".format(errors_on_val))\n",
    "\n",
    "neigh = KNeighborsRegressor()\n",
    "parameters = {'n_neighbors':list(range(5,12))}\n",
    "\n",
    "res = perform_grid_search_cross_validation(neigh, X_train, y_train, parameters, scoring='r2', cv=5, n_jobs=5)\n",
    "print(res)"
   ]
  },
  {
   "cell_type": "code",
   "execution_count": 76,
   "metadata": {},
   "outputs": [
    {
     "ename": "NotFittedError",
     "evalue": "This KNeighborsRegressor instance is not fitted yet. Call 'fit' with appropriate arguments before using this method.",
     "output_type": "error",
     "traceback": [
      "\u001b[0;31m---------------------------------------------------------------------------\u001b[0m",
      "\u001b[0;31mNotFittedError\u001b[0m                            Traceback (most recent call last)",
      "\u001b[0;32m<ipython-input-76-a1d9d63697f6>\u001b[0m in \u001b[0;36m<module>\u001b[0;34m\u001b[0m\n\u001b[0;32m----> 1\u001b[0;31m \u001b[0mtraining_res\u001b[0m \u001b[0;34m=\u001b[0m \u001b[0my_train\u001b[0m \u001b[0;34m-\u001b[0m \u001b[0mneigh\u001b[0m\u001b[0;34m.\u001b[0m\u001b[0mpredict\u001b[0m\u001b[0;34m(\u001b[0m\u001b[0mX_train\u001b[0m\u001b[0;34m)\u001b[0m\u001b[0;34m\u001b[0m\u001b[0;34m\u001b[0m\u001b[0m\n\u001b[0m\u001b[1;32m      2\u001b[0m \u001b[0mholdout_res\u001b[0m \u001b[0;34m=\u001b[0m \u001b[0my_val\u001b[0m \u001b[0;34m-\u001b[0m \u001b[0my_pred\u001b[0m\u001b[0;34m\u001b[0m\u001b[0;34m\u001b[0m\u001b[0m\n",
      "\u001b[0;32m/usr/local/anaconda3/lib/python3.7/site-packages/sklearn/neighbors/regression.py\u001b[0m in \u001b[0;36mpredict\u001b[0;34m(self, X)\u001b[0m\n\u001b[1;32m    155\u001b[0m         \u001b[0mX\u001b[0m \u001b[0;34m=\u001b[0m \u001b[0mcheck_array\u001b[0m\u001b[0;34m(\u001b[0m\u001b[0mX\u001b[0m\u001b[0;34m,\u001b[0m \u001b[0maccept_sparse\u001b[0m\u001b[0;34m=\u001b[0m\u001b[0;34m'csr'\u001b[0m\u001b[0;34m)\u001b[0m\u001b[0;34m\u001b[0m\u001b[0;34m\u001b[0m\u001b[0m\n\u001b[1;32m    156\u001b[0m \u001b[0;34m\u001b[0m\u001b[0m\n\u001b[0;32m--> 157\u001b[0;31m         \u001b[0mneigh_dist\u001b[0m\u001b[0;34m,\u001b[0m \u001b[0mneigh_ind\u001b[0m \u001b[0;34m=\u001b[0m \u001b[0mself\u001b[0m\u001b[0;34m.\u001b[0m\u001b[0mkneighbors\u001b[0m\u001b[0;34m(\u001b[0m\u001b[0mX\u001b[0m\u001b[0;34m)\u001b[0m\u001b[0;34m\u001b[0m\u001b[0;34m\u001b[0m\u001b[0m\n\u001b[0m\u001b[1;32m    158\u001b[0m \u001b[0;34m\u001b[0m\u001b[0m\n\u001b[1;32m    159\u001b[0m         \u001b[0mweights\u001b[0m \u001b[0;34m=\u001b[0m \u001b[0m_get_weights\u001b[0m\u001b[0;34m(\u001b[0m\u001b[0mneigh_dist\u001b[0m\u001b[0;34m,\u001b[0m \u001b[0mself\u001b[0m\u001b[0;34m.\u001b[0m\u001b[0mweights\u001b[0m\u001b[0;34m)\u001b[0m\u001b[0;34m\u001b[0m\u001b[0;34m\u001b[0m\u001b[0m\n",
      "\u001b[0;32m/usr/local/anaconda3/lib/python3.7/site-packages/sklearn/neighbors/base.py\u001b[0m in \u001b[0;36mkneighbors\u001b[0;34m(self, X, n_neighbors, return_distance)\u001b[0m\n\u001b[1;32m    382\u001b[0m \u001b[0;34m\u001b[0m\u001b[0m\n\u001b[1;32m    383\u001b[0m         \"\"\"\n\u001b[0;32m--> 384\u001b[0;31m         \u001b[0mcheck_is_fitted\u001b[0m\u001b[0;34m(\u001b[0m\u001b[0mself\u001b[0m\u001b[0;34m,\u001b[0m \u001b[0;34m[\u001b[0m\u001b[0;34m\"_fit_method\"\u001b[0m\u001b[0;34m,\u001b[0m \u001b[0;34m\"_fit_X\"\u001b[0m\u001b[0;34m]\u001b[0m\u001b[0;34m,\u001b[0m \u001b[0mall_or_any\u001b[0m\u001b[0;34m=\u001b[0m\u001b[0many\u001b[0m\u001b[0;34m)\u001b[0m\u001b[0;34m\u001b[0m\u001b[0;34m\u001b[0m\u001b[0m\n\u001b[0m\u001b[1;32m    385\u001b[0m \u001b[0;34m\u001b[0m\u001b[0m\n\u001b[1;32m    386\u001b[0m         \u001b[0;32mif\u001b[0m \u001b[0mn_neighbors\u001b[0m \u001b[0;32mis\u001b[0m \u001b[0;32mNone\u001b[0m\u001b[0;34m:\u001b[0m\u001b[0;34m\u001b[0m\u001b[0;34m\u001b[0m\u001b[0m\n",
      "\u001b[0;32m/usr/local/anaconda3/lib/python3.7/site-packages/sklearn/utils/validation.py\u001b[0m in \u001b[0;36mcheck_is_fitted\u001b[0;34m(estimator, attributes, msg, all_or_any)\u001b[0m\n\u001b[1;32m    912\u001b[0m \u001b[0;34m\u001b[0m\u001b[0m\n\u001b[1;32m    913\u001b[0m     \u001b[0;32mif\u001b[0m \u001b[0;32mnot\u001b[0m \u001b[0mall_or_any\u001b[0m\u001b[0;34m(\u001b[0m\u001b[0;34m[\u001b[0m\u001b[0mhasattr\u001b[0m\u001b[0;34m(\u001b[0m\u001b[0mestimator\u001b[0m\u001b[0;34m,\u001b[0m \u001b[0mattr\u001b[0m\u001b[0;34m)\u001b[0m \u001b[0;32mfor\u001b[0m \u001b[0mattr\u001b[0m \u001b[0;32min\u001b[0m \u001b[0mattributes\u001b[0m\u001b[0;34m]\u001b[0m\u001b[0;34m)\u001b[0m\u001b[0;34m:\u001b[0m\u001b[0;34m\u001b[0m\u001b[0;34m\u001b[0m\u001b[0m\n\u001b[0;32m--> 914\u001b[0;31m         \u001b[0;32mraise\u001b[0m \u001b[0mNotFittedError\u001b[0m\u001b[0;34m(\u001b[0m\u001b[0mmsg\u001b[0m \u001b[0;34m%\u001b[0m \u001b[0;34m{\u001b[0m\u001b[0;34m'name'\u001b[0m\u001b[0;34m:\u001b[0m \u001b[0mtype\u001b[0m\u001b[0;34m(\u001b[0m\u001b[0mestimator\u001b[0m\u001b[0;34m)\u001b[0m\u001b[0;34m.\u001b[0m\u001b[0m__name__\u001b[0m\u001b[0;34m}\u001b[0m\u001b[0;34m)\u001b[0m\u001b[0;34m\u001b[0m\u001b[0;34m\u001b[0m\u001b[0m\n\u001b[0m\u001b[1;32m    915\u001b[0m \u001b[0;34m\u001b[0m\u001b[0m\n\u001b[1;32m    916\u001b[0m \u001b[0;34m\u001b[0m\u001b[0m\n",
      "\u001b[0;31mNotFittedError\u001b[0m: This KNeighborsRegressor instance is not fitted yet. Call 'fit' with appropriate arguments before using this method."
     ]
    }
   ],
   "source": [
    "training_res = y_train - neigh.predict(X_train)\n",
    "holdout_res = y_val - y_pred"
   ]
  },
  {
   "cell_type": "code",
   "execution_count": null,
   "metadata": {},
   "outputs": [],
   "source": [
    "# Plotting Residuals \n",
    "plt.scatter(y_val, y_pred)\n",
    "plt.xlabel('Actual Value')\n",
    "plt.ylabel('Predicted Value')\n",
    "plt.show()"
   ]
  },
  {
   "cell_type": "markdown",
   "metadata": {},
   "source": [
    "### Pollutant: O3"
   ]
  },
  {
   "cell_type": "markdown",
   "metadata": {},
   "source": [
    "### Pollutant: CO"
   ]
  },
  {
   "cell_type": "markdown",
   "metadata": {},
   "source": [
    "### Pollutant: PM2.5"
   ]
  }
 ],
 "metadata": {
  "kernelspec": {
   "display_name": "Python 3",
   "language": "python",
   "name": "python3"
  },
  "language_info": {
   "codemirror_mode": {
    "name": "ipython",
    "version": 3
   },
   "file_extension": ".py",
   "mimetype": "text/x-python",
   "name": "python",
   "nbconvert_exporter": "python",
   "pygments_lexer": "ipython3",
   "version": "3.7.3"
  }
 },
 "nbformat": 4,
 "nbformat_minor": 2
}
