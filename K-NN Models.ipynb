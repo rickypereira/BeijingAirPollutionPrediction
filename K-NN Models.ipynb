{
 "cells": [
  {
   "cell_type": "code",
   "execution_count": 1,
   "metadata": {},
   "outputs": [],
   "source": [
    "import pandas as pd\n",
    "import numpy as np\n",
    "import joblib\n",
    "import glob\n",
    "from math import sqrt\n",
    "\n",
    "from sklearn.metrics import mean_squared_error\n",
    "from sklearn.metrics import mean_absolute_error\n",
    "from sklearn.neighbors import KNeighborsRegressor\n",
    "from sklearn.model_selection import train_test_split\n",
    "from sklearn.model_selection import GridSearchCV\n",
    "from sklearn.preprocessing import MinMaxScaler\n",
    "from sklearn.ensemble import RandomForestRegressor\n",
    "from sklearn.decomposition import PCA\n",
    "import matplotlib.pyplot as plt\n",
    "from scipy.stats import ttest_ind, shapiro\n",
    "\n",
    "from statsmodels.graphics.gofplots import qqplot\n",
    "from matplotlib import pyplot\n",
    "import seaborn as sns\n",
    "import pandas_profiling"
   ]
  },
  {
   "cell_type": "markdown",
   "metadata": {},
   "source": [
    "# Single Variable Prediction"
   ]
  },
  {
   "cell_type": "code",
   "execution_count": 2,
   "metadata": {},
   "outputs": [],
   "source": [
    "### Loading up Variables:\n",
    "def load_individual_city_data(cityName, normalized=True):\n",
    "    if normalized:\n",
    "        return joblib.load(\"data/cleaned/normalized_{}.joblib\".format(cityName))\n",
    "    else:\n",
    "        return joblib.load(\"data/cleaned/unnormalized_{}.joblib\".format(cityName))\n",
    "\n",
    "def load_full_dataset(normalized=True):\n",
    "    if normalized:\n",
    "        return joblib.load(\"data/cleaned/normalized_complete.joblib\")\n",
    "    else:\n",
    "        return joblib.load(\"data/cleaned/unnormalized_complete.joblib\")\n",
    "    \n",
    "def idx2CityName(idx):\n",
    "    mapping = {0 : 'Aotizhongxin', 1 : 'Changping',\n",
    "     2 : 'Dingling',3 : 'Dongsi', 4 : 'Guanyuan',\n",
    "     5 : 'Gucheng', 6 : 'Huairou', 7 : 'Nongzhanguan',\n",
    "     8 : 'Shunyi', 9 : 'Tiantan',10 : 'Wanliu',\n",
    "    11 : 'Wanshouxigong'}\n",
    "\n",
    "    return mapping[idx]\n",
    "\n",
    "def cityName2Idx(cityName):\n",
    "    mapping = {'Aotizhongxin' : 0, 'Changping' : 1, 'Dingling' : 2, 'Dongsi' : 3,\n",
    "     'Guanyuan' : 4, 'Gucheng' : 5, 'Huairou' : 6, 'Nongzhanguan' : 7, 'Shunyi' : 8,\n",
    "     'Tiantan' : 9, 'Wanliu' : 10, 'Wanshouxigong' : 11}\n",
    "    \n",
    "    return mapping[cityName]\n",
    "\n",
    "def split(X, y):\n",
    "    train_index = (0, 21000)\n",
    "    validation_index = (21000, 28000)\n",
    "    test_index = (28000, len(X) - 1)\n",
    "    \n",
    "    X_train, X_val, X_test = X[:train_index[1]], X[validation_index[0]:validation_index[1]], X[test_index[0]:]\n",
    "    y_train, y_val, y_test = y[:train_index[1]], y[validation_index[0]:validation_index[1]], y[test_index[0]:]\n",
    "    \n",
    "    return X_train, X_val, X_test, y_train, y_val, y_test\n",
    "\n",
    "def prepare(df, resp_col):\n",
    "    cols = df.columns\n",
    "    pred_cols = []\n",
    "    for col in cols:\n",
    "        if col != resp_col:\n",
    "            pred_cols.append(col)\n",
    "            \n",
    "    \n",
    "    pred_dataset = df[pred_cols]\n",
    "    X = pred_dataset[pred_cols].values\n",
    "    scaler = MinMaxScaler(feature_range=(-1, 1))\n",
    "    X = scaler.fit_transform(X)\n",
    "    \n",
    "    series = df[resp_col].values\n",
    "    values = series.reshape(-1, 1)\n",
    "    scaler = MinMaxScaler(feature_range=(-1, 1))\n",
    "    y = scaler.fit_transform(values)\n",
    "    \n",
    "    return X, y\n",
    "\n",
    "def perform_grid_search_cross_validation(model, X_train, y_train, grid_param, scoring='accuracy', cv=5, n_jobs=1):\n",
    "    gd_sr = GridSearchCV(estimator=model, param_grid=grid_param, scoring=scoring, cv=cv, n_jobs=n_jobs)\n",
    "    gd_sr.fit(X_train, y_train)\n",
    "    return gd_sr.best_params_\n",
    "    \n",
    "\n",
    "def validate_prediction(y, y_pred):\n",
    "    mse = mean_squared_error(y, y_pred)\n",
    "    mae = mean_absolute_error(y, y_pred)\n",
    "\n",
    "    return \"mse = {mse} & mae = {mae} & rmse = {rmse}\".format(mse=mse, mae=mae, rmse=sqrt(mse))\n",
    "\n",
    "def get_scaler(dataset, feature_col=\"SO2\"):\n",
    "    dataset = dataset[[feature_col]]\n",
    "    series = dataset[feature_col].values\n",
    "    values = series.reshape(-1, 1)\n",
    "    scaler = MinMaxScaler(feature_range=(-1, 1))\n",
    "    values = scaler.fit_transform(values)\n",
    "    return scaler"
   ]
  },
  {
   "cell_type": "markdown",
   "metadata": {},
   "source": [
    "### Pollutant: NO2"
   ]
  },
  {
   "cell_type": "code",
   "execution_count": 3,
   "metadata": {},
   "outputs": [],
   "source": [
    "dataset = load_individual_city_data(idx2CityName(11), False)"
   ]
  },
  {
   "cell_type": "code",
   "execution_count": 4,
   "metadata": {},
   "outputs": [],
   "source": [
    "no2_dataset = dataset.drop(['WSPM', 'E', 'ENE', 'ESE', 'N', 'NE', 'NNE', 'NNW', 'NW', 'S', 'SE',\n",
    "       'SSE', 'SSW', 'SW', 'W', 'WNW', 'PM2.5'], inplace=False, axis=1)"
   ]
  },
  {
   "cell_type": "code",
   "execution_count": 5,
   "metadata": {},
   "outputs": [
    {
     "data": {
      "text/plain": [
       "Index(['SO2', 'NO2', 'CO', 'O3', 'TEMP', 'PRES', 'DEWP'], dtype='object')"
      ]
     },
     "execution_count": 5,
     "metadata": {},
     "output_type": "execute_result"
    }
   ],
   "source": [
    "no2_dataset.columns"
   ]
  },
  {
   "cell_type": "code",
   "execution_count": 6,
   "metadata": {},
   "outputs": [],
   "source": [
    "X, y = prepare(no2_dataset, \"NO2\")"
   ]
  },
  {
   "cell_type": "code",
   "execution_count": 7,
   "metadata": {},
   "outputs": [],
   "source": [
    "X_train, X_val, X_test, y_train, y_val, y_test = split(X, y)"
   ]
  },
  {
   "cell_type": "code",
   "execution_count": 8,
   "metadata": {},
   "outputs": [
    {
     "data": {
      "text/plain": [
       "KNeighborsRegressor(algorithm='brute', leaf_size=30, metric='minkowski',\n",
       "                    metric_params=None, n_jobs=7, n_neighbors=14, p=2,\n",
       "                    weights='distance')"
      ]
     },
     "execution_count": 8,
     "metadata": {},
     "output_type": "execute_result"
    }
   ],
   "source": [
    "neigh = KNeighborsRegressor(algorithm='brute', n_neighbors=14, weights='distance', n_jobs=7)\n",
    "neigh.fit(X_train, y_train)"
   ]
  },
  {
   "cell_type": "code",
   "execution_count": 10,
   "metadata": {},
   "outputs": [
    {
     "name": "stdout",
     "output_type": "stream",
     "text": [
      "Train: mse = 6.144294139649036e-09 & mae = 7.649646203863061e-07 & rmse = 7.838554802799453e-05\n",
      "Validation: mse = 0.025186765248444057 & mae = 0.11733081716510313 & rmse = 0.15870338764010067\n"
     ]
    }
   ],
   "source": [
    "y_pred = neigh.predict(X_val)\n",
    "\n",
    "errors_on_train = validate_prediction(y_train, neigh.predict(X_train))\n",
    "errors_on_val = validate_prediction(y_val, y_pred)\n",
    "print(\"Train: {}\".format(errors_on_train))\n",
    "print(\"Validation: {}\".format(errors_on_val))"
   ]
  },
  {
   "cell_type": "code",
   "execution_count": 11,
   "metadata": {},
   "outputs": [],
   "source": [
    "scaler_no2 = get_scaler(dataset, feature_col=\"NO2\")\n",
    "y_rescaled = scaler_no2.inverse_transform(y_pred)"
   ]
  },
  {
   "cell_type": "code",
   "execution_count": 12,
   "metadata": {},
   "outputs": [
    {
     "data": {
      "text/plain": [
       "['data/model/knn_no2.joblib']"
      ]
     },
     "execution_count": 12,
     "metadata": {},
     "output_type": "execute_result"
    }
   ],
   "source": [
    "joblib.dump(neigh, \"data/model/knn_no2.joblib\")"
   ]
  },
  {
   "cell_type": "code",
   "execution_count": 13,
   "metadata": {},
   "outputs": [
    {
     "data": {
      "text/plain": [
       "[12, 13, 14, 15, 16, 17, 18, 19]"
      ]
     },
     "execution_count": 13,
     "metadata": {},
     "output_type": "execute_result"
    }
   ],
   "source": [
    "[x for x in range(12,20)]"
   ]
  },
  {
   "cell_type": "code",
   "execution_count": 14,
   "metadata": {},
   "outputs": [
    {
     "data": {
      "text/plain": [
       "'mse = 0.025186765248444057 & mae = 0.11733081716510313 & rmse = 0.15870338764010067'"
      ]
     },
     "execution_count": 14,
     "metadata": {},
     "output_type": "execute_result"
    }
   ],
   "source": [
    "validate_prediction(y_pred, y_val)"
   ]
  },
  {
   "cell_type": "code",
   "execution_count": 15,
   "metadata": {},
   "outputs": [
    {
     "data": {
      "image/png": "[encoded data removed]",
      "text/plain": [
       "<Figure size 432x288 with 1 Axes>"
      ]
     },
     "metadata": {
      "needs_background": "light"
     },
     "output_type": "display_data"
    }
   ],
   "source": [
    "plt.scatter(y_val, y_pred)\n",
    "plt.title(\"Accuracy for NO2\")\n",
    "plt.xlabel('Actual Value')\n",
    "plt.ylabel('Predicted Value')\n",
    "plt.show()"
   ]
  },
  {
   "cell_type": "markdown",
   "metadata": {},
   "source": [
    "### Pollutant: PM2.5"
   ]
  },
  {
   "cell_type": "code",
   "execution_count": 27,
   "metadata": {},
   "outputs": [],
   "source": [
    "pm25_dataset = dataset.drop(['WSPM', 'E', 'ENE', 'ESE', 'N', 'NE', 'NNE', 'NNW', 'NW', 'S', 'SE',\n",
    "       'SSE', 'SSW', 'SW', 'W', 'WNW', 'NO2'], inplace=False, axis=1)"
   ]
  },
  {
   "cell_type": "code",
   "execution_count": 28,
   "metadata": {},
   "outputs": [],
   "source": [
    "X, y = prepare(pm25_dataset, \"PM2.5\")"
   ]
  },
  {
   "cell_type": "code",
   "execution_count": 29,
   "metadata": {},
   "outputs": [],
   "source": [
    "X_train, X_val, X_test, y_train, y_val, y_test = split(X, y)"
   ]
  },
  {
   "cell_type": "code",
   "execution_count": 30,
   "metadata": {},
   "outputs": [
    {
     "data": {
      "text/plain": [
       "KNeighborsRegressor(algorithm='ball_tree', leaf_size=30, metric='minkowski',\n",
       "                    metric_params=None, n_jobs=3, n_neighbors=14, p=2,\n",
       "                    weights='uniform')"
      ]
     },
     "execution_count": 30,
     "metadata": {},
     "output_type": "execute_result"
    }
   ],
   "source": [
    "neigh = KNeighborsRegressor(algorithm='ball_tree', n_neighbors=14, weights='uniform', n_jobs=3)\n",
    "neigh.fit(X_train, y_train)"
   ]
  },
  {
   "cell_type": "code",
   "execution_count": 31,
   "metadata": {},
   "outputs": [],
   "source": [
    "y_pred = neigh.predict(X_val)"
   ]
  },
  {
   "cell_type": "code",
   "execution_count": 32,
   "metadata": {},
   "outputs": [
    {
     "data": {
      "text/plain": [
       "['data/model/knn_pm2.5.joblib']"
      ]
     },
     "execution_count": 32,
     "metadata": {},
     "output_type": "execute_result"
    }
   ],
   "source": [
    "joblib.dump(neigh, \"data/model/knn_pm2.5.joblib\")"
   ]
  },
  {
   "cell_type": "code",
   "execution_count": 24,
   "metadata": {},
   "outputs": [],
   "source": [
    "def get_scaler(dataset, feature_col=\"SO2\"):\n",
    "    dataset = dataset[[feature_col]]\n",
    "    series = dataset[feature_col].values\n",
    "    values = series.reshape(-1, 1)\n",
    "    scaler = MinMaxScaler(feature_range=(-1, 1))\n",
    "    values = scaler.fit_transform(values)\n",
    "    return scaler"
   ]
  },
  {
   "cell_type": "code",
   "execution_count": 33,
   "metadata": {},
   "outputs": [
    {
     "data": {
      "image/png": "[encoded data removed]",
      "text/plain": [
       "<Figure size 432x288 with 1 Axes>"
      ]
     },
     "metadata": {
      "needs_background": "light"
     },
     "output_type": "display_data"
    }
   ],
   "source": [
    "plt.scatter(y_val, y_pred)\n",
    "plt.title(\"Accuracy for PM2.5\")\n",
    "plt.xlabel('Actual Value')\n",
    "plt.ylabel('Predicted Value')\n",
    "plt.show()"
   ]
  },
  {
   "cell_type": "code",
   "execution_count": null,
   "metadata": {},
   "outputs": [],
   "source": []
  }
 ],
 "metadata": {
  "kernelspec": {
   "display_name": "Python 3",
   "language": "python",
   "name": "python3"
  },
  "language_info": {
   "codemirror_mode": {
    "name": "ipython",
    "version": 3
   },
   "file_extension": ".py",
   "mimetype": "text/x-python",
   "name": "python",
   "nbconvert_exporter": "python",
   "pygments_lexer": "ipython3",
   "version": "3.7.3"
  }
 },
 "nbformat": 4,
 "nbformat_minor": 2
}
