{
 "cells": [
  {
   "cell_type": "markdown",
   "metadata": {},
   "source": [
    "## Ensemble Method"
   ]
  },
  {
   "cell_type": "code",
   "execution_count": null,
   "metadata": {},
   "outputs": [],
   "source": [
    "import pandas as pd\n",
    "import numpy as np\n",
    "import joblib\n",
    "\n",
    "import matplotlib.pyplot as plt\n",
    "from sklearn.preprocessing import MinMaxScaler\n",
    "from keras.models import Sequential, load_model"
   ]
  },
  {
   "cell_type": "code",
   "execution_count": 26,
   "metadata": {},
   "outputs": [],
   "source": [
    "from sklearn.metrics import mean_squared_error\n",
    "from sklearn.metrics import mean_absolute_error\n",
    "from math import sqrt"
   ]
  },
  {
   "cell_type": "code",
   "execution_count": 20,
   "metadata": {},
   "outputs": [],
   "source": [
    "#Loading KNN Models\n",
    "knn_pm25 = joblib.load(\"data/model/knn_pm2.5.joblib\", mmap_mode ='r')\n",
    "knn_no2 = joblib.load(\"data/model/knn_no2.joblib\", mmap_mode ='r')"
   ]
  },
  {
   "cell_type": "code",
   "execution_count": 40,
   "metadata": {},
   "outputs": [],
   "source": [
    "#Loading Forecasting Models \n",
    "model_co = load_model('data/model/simple_rnn_co.rnn')\n",
    "model_o3 = load_model('data/model/simple_rnn_o3.rnn')\n",
    "model_so2 = load_model('data/model/simple_rnn_so2.rnn')\n",
    "model_temp = load_model('data/model/simple_rnn_temp.rnn')\n",
    "model_dewp = load_model('data/model/simple_rnn_dewp.rnn')\n",
    "model_pres = load_model('data/model/simple_rnn_pres.rnn')\n",
    "model_wspm = load_model('data/model/simple_rnn_wspm.rnn')\n",
    "baseline_model_no2 = load_model('data/model/simple_rnn_no2.rnn')\n",
    "baseline_model_pm25 = load_model('data/model/simple_rnn_pm25.rnn')"
   ]
  },
  {
   "cell_type": "code",
   "execution_count": 4,
   "metadata": {},
   "outputs": [],
   "source": [
    "dataset = joblib.load('data/cleaned/unnormalized_Wanshouxigong.joblib')"
   ]
  },
  {
   "cell_type": "code",
   "execution_count": 5,
   "metadata": {},
   "outputs": [],
   "source": [
    "test_set = dataset[28000:]\n",
    "test_set = test_set[['PM2.5', 'SO2', 'NO2', 'CO', 'O3', 'TEMP', 'PRES', 'DEWP']]"
   ]
  },
  {
   "cell_type": "code",
   "execution_count": 25,
   "metadata": {},
   "outputs": [],
   "source": [
    "def build_scaler(dataset, feature_col=\"SO2\"):\n",
    "    dataset = dataset[[feature_col]]\n",
    "    series = dataset[feature_col].values\n",
    "    values = series.reshape(-1, 1)\n",
    "    scaler = MinMaxScaler(feature_range=(-1, 1))\n",
    "    values = scaler.fit_transform(values)\n",
    "    return scaler\n",
    "\n",
    "def prepare(dataset, feature_col=\"SO2\"):\n",
    "    dataset = dataset[[feature_col]]\n",
    "    series = dataset[feature_col].values\n",
    "    values = series.reshape(-1, 1)\n",
    "    scaler = MinMaxScaler(feature_range=(-1, 1))\n",
    "    values = scaler.fit_transform(values)\n",
    "    X = values[:-1]\n",
    "    y = values[1:]\n",
    "    \n",
    "    return X, y\n",
    "\n",
    "def get_scaler(dataset, feature_col=\"SO2\"):\n",
    "    dataset = dataset[[feature_col]]\n",
    "    series = dataset[feature_col].values\n",
    "    values = series.reshape(-1, 1)\n",
    "    scaler = MinMaxScaler(feature_range=(-1, 1))\n",
    "    values = scaler.fit_transform(values)\n",
    "    return scaler\n",
    "    \n",
    "def rebuild_dataframe(scalers, values, cols):\n",
    "    df = pd.DataFrame()\n",
    "    for idx, value in enumerate(values):\n",
    "        df[cols[idx]] = scalers[idx].inverse_transform(value).flatten()\n",
    "        \n",
    "    return df\n",
    "\n",
    "def reshape(sequence):\n",
    "    return sequence.reshape(sequence.shape[0], sequence.shape[1], 1)\n",
    "\n",
    "def validate_prediction(y, y_pred):\n",
    "    mse = mean_squared_error(y, y_pred)\n",
    "    mae = mean_absolute_error(y, y_pred)\n",
    "\n",
    "    return \"mse = {mse} & mae = {mae} & rmse = {rmse}\".format(mse=mse, mae=mae, rmse=sqrt(mse))"
   ]
  },
  {
   "cell_type": "code",
   "execution_count": 41,
   "metadata": {},
   "outputs": [],
   "source": [
    "# Preparing Vectors\n",
    "X_o3, y_o3 = prepare(test_set, \"O3\")\n",
    "X_so2, y_so2 = prepare(test_set, \"SO2\")\n",
    "X_co, y_co = prepare(test_set, \"CO\")\n",
    "X_temp, y_temp = prepare(test_set, \"TEMP\")\n",
    "X_pres, y_pres = prepare(test_set, \"PRES\")\n",
    "X_dewp, y_dewp = prepare(test_set, \"DEWP\")\n",
    "X_no2, y_no2 = prepare(test_set, \"NO2\")\n",
    "X_pm25, y_pm25 = prepare(test_set, \"PM2.5\")"
   ]
  },
  {
   "cell_type": "code",
   "execution_count": 42,
   "metadata": {},
   "outputs": [],
   "source": [
    "# Reshaping\n",
    "X_o3 = reshape(X_o3)\n",
    "X_so2 = reshape(X_so2)\n",
    "X_co = reshape(X_co)\n",
    "X_temp = reshape(X_temp)\n",
    "X_pres = reshape(X_pres)\n",
    "X_dewp = reshape(X_dewp)\n",
    "X_no2 = reshape(X_no2)\n",
    "X_pm25 = reshape(X_pm25)"
   ]
  },
  {
   "cell_type": "code",
   "execution_count": 44,
   "metadata": {},
   "outputs": [],
   "source": [
    "# Getting Predictions\n",
    "\n",
    "predicted_o3 = model_o3.predict(X_o3)\n",
    "#predicted_o3 = np.reshape(predicted_o3, (predicted_o3.size,))\n",
    "\n",
    "predicted_so2 = model_so2.predict(X_so2)\n",
    "#predicted_so2 = np.reshape(predicted_so2, (predicted_so2.size,))\n",
    "\n",
    "predicted_co = model_co.predict(X_co)\n",
    "#predicted_co = np.reshape(predicted_co, (predicted_co.size,))\n",
    "\n",
    "predicted_temp = model_temp.predict(X_temp)\n",
    "#predicted_temp = np.reshape(predicted_temp, (predicted_temp.size,))\n",
    "\n",
    "predicted_dewp = model_dewp.predict(X_dewp)\n",
    "#predicted_dewp = np.reshape(predicted_dewp, (predicted_dewp.size,))\n",
    "\n",
    "predicted_pres = model_pres.predict(X_pres)\n",
    "#predicted_pres = np.reshape(predicted_pres, (predicted_pres.size,))"
   ]
  },
  {
   "cell_type": "code",
   "execution_count": 16,
   "metadata": {},
   "outputs": [],
   "source": [
    "scaler_o3 = get_scaler(dataset, feature_col=\"O3\")\n",
    "scaler_co = get_scaler(dataset, feature_col=\"CO\")\n",
    "scaler_so2 = get_scaler(dataset, feature_col=\"SO2\")\n",
    "scaler_temp = get_scaler(dataset, feature_col=\"TEMP\")\n",
    "scaler_dewp = get_scaler(dataset, feature_col=\"DEWP\")\n",
    "scaler_pres = get_scaler(dataset, feature_col=\"PRES\")"
   ]
  },
  {
   "cell_type": "code",
   "execution_count": 17,
   "metadata": {},
   "outputs": [],
   "source": [
    "scalers = [scaler_so2, scaler_co, scaler_o3, scaler_temp, scaler_pres, scaler_dewp]\n",
    "predicted = [predicted_so2, predicted_co, predicted_o3, predicted_temp, predicted_pres, predicted_dewp]\n",
    "cols = ['SO2', 'CO', 'O3', 'TEMP', 'PRES', 'DEWP']\n",
    "predicted_df = rebuild_dataframe(scalers, predicted, cols)"
   ]
  },
  {
   "cell_type": "code",
   "execution_count": 18,
   "metadata": {},
   "outputs": [],
   "source": [
    "X = predicted_df.values\n",
    "scaler = MinMaxScaler(feature_range=(-1, 1))\n",
    "X = scaler.fit_transform(predicted_df)"
   ]
  },
  {
   "cell_type": "markdown",
   "metadata": {},
   "source": [
    "### Predicting with PM2.5"
   ]
  },
  {
   "cell_type": "code",
   "execution_count": 45,
   "metadata": {},
   "outputs": [],
   "source": [
    "predicted_pm25 = knn_pm25.predict(X)"
   ]
  },
  {
   "cell_type": "code",
   "execution_count": 46,
   "metadata": {},
   "outputs": [],
   "source": [
    "scaler_pm25 = get_scaler(dataset, feature_col=\"PM2.5\")\n",
    "rescaled_predicted = scaler_pm25.inverse_transform(predicted_pm25)\n",
    "actual_val = test_set[['PM2.5']].values[1:]"
   ]
  },
  {
   "cell_type": "code",
   "execution_count": 47,
   "metadata": {},
   "outputs": [
    {
     "data": {
      "text/plain": [
       "Text(0, 0.5, 'Actual Value')"
      ]
     },
     "execution_count": 47,
     "metadata": {},
     "output_type": "execute_result"
    },
    {
     "data": {
      "image/png": "[encoded data removed]",
      "text/plain": [
       "<Figure size 432x288 with 1 Axes>"
      ]
     },
     "metadata": {
      "needs_background": "light"
     },
     "output_type": "display_data"
    }
   ],
   "source": [
    "plt.scatter(rescaled_predicted, actual_val)\n",
    "plt.title(\"[PM2.5] Predicted Test-Set Result vs Actual Test-Set Result\")\n",
    "plt.xlabel(\"Predicted Value\")\n",
    "plt.ylabel(\"Actual Value\")"
   ]
  },
  {
   "cell_type": "code",
   "execution_count": 48,
   "metadata": {},
   "outputs": [
    {
     "data": {
      "text/plain": [
       "'mse = 2701.86669830947 & mae = 33.14643727193489 & rmse = 51.97948343634698'"
      ]
     },
     "execution_count": 48,
     "metadata": {},
     "output_type": "execute_result"
    }
   ],
   "source": [
    "validate_prediction(rescaled_predicted, actual_val)"
   ]
  },
  {
   "cell_type": "code",
   "execution_count": 52,
   "metadata": {},
   "outputs": [],
   "source": [
    "##Baseline Testing:\n",
    "predicted_baseline_pm25 = baseline_model_pm25.predict(X_pm25)\n",
    "#predicted_pres = np.reshape(predicted_pres, (predicted_pres.size,))\n",
    "\n",
    "rescaled_predicted = scaler_pm25.inverse_transform(predicted_baseline_pm25)\n",
    "actual_val = test_set[['PM2.5']].values[1:]"
   ]
  },
  {
   "cell_type": "code",
   "execution_count": 55,
   "metadata": {},
   "outputs": [
    {
     "data": {
      "text/plain": [
       "Text(0, 0.5, 'Actual Value')"
      ]
     },
     "execution_count": 55,
     "metadata": {},
     "output_type": "execute_result"
    },
    {
     "data": {
      "image/png": "[encoded data removed]",
      "text/plain": [
       "<Figure size 432x288 with 1 Axes>"
      ]
     },
     "metadata": {
      "needs_background": "light"
     },
     "output_type": "display_data"
    }
   ],
   "source": [
    "plt.scatter(rescaled_predicted, actual_val)\n",
    "plt.title(\"[PM2.5] Baseline Test: Predicted Result vs Actual Test-Set Result\")\n",
    "plt.xlabel(\"Predicted Value\")\n",
    "plt.ylabel(\"Actual Value\")"
   ]
  },
  {
   "cell_type": "code",
   "execution_count": 54,
   "metadata": {},
   "outputs": [
    {
     "data": {
      "text/plain": [
       "'mse = 1188.1353763564568 & mae = 20.920791350379556 & rmse = 34.46933965651876'"
      ]
     },
     "execution_count": 54,
     "metadata": {},
     "output_type": "execute_result"
    }
   ],
   "source": [
    "validate_prediction(rescaled_predicted, actual_val)"
   ]
  },
  {
   "cell_type": "markdown",
   "metadata": {},
   "source": [
    "### Predicting with NO2"
   ]
  },
  {
   "cell_type": "code",
   "execution_count": 64,
   "metadata": {},
   "outputs": [],
   "source": [
    "predicted_no2 = knn_no2.predict(X)"
   ]
  },
  {
   "cell_type": "code",
   "execution_count": 65,
   "metadata": {},
   "outputs": [],
   "source": [
    "scaler_no2 = get_scaler(dataset, feature_col=\"NO2\")\n",
    "rescaled_predicted = scaler_no2.inverse_transform(predicted_no2)\n",
    "actual_val = test_set[['NO2']].values[1:]"
   ]
  },
  {
   "cell_type": "code",
   "execution_count": 66,
   "metadata": {},
   "outputs": [
    {
     "data": {
      "text/plain": [
       "Text(0, 0.5, 'Actual Value')"
      ]
     },
     "execution_count": 66,
     "metadata": {},
     "output_type": "execute_result"
    },
    {
     "data": {
      "image/png": "[encoded data removed]",
      "text/plain": [
       "<Figure size 432x288 with 1 Axes>"
      ]
     },
     "metadata": {
      "needs_background": "light"
     },
     "output_type": "display_data"
    }
   ],
   "source": [
    "plt.scatter(rescaled_predicted, actual_val)\n",
    "plt.title(\"[NO2] Predicted Test-Set Result vs Actual Test-Set Result\")\n",
    "plt.xlabel(\"Predicted Value\")\n",
    "plt.ylabel(\"Actual Value\")"
   ]
  },
  {
   "cell_type": "code",
   "execution_count": 67,
   "metadata": {},
   "outputs": [
    {
     "data": {
      "text/plain": [
       "'mse = 438.7273242832702 & mae = 15.523154406035227 & rmse = 20.945818778058552'"
      ]
     },
     "execution_count": 67,
     "metadata": {},
     "output_type": "execute_result"
    }
   ],
   "source": [
    "validate_prediction(rescaled_predicted, actual_val)"
   ]
  },
  {
   "cell_type": "code",
   "execution_count": 59,
   "metadata": {
    "scrolled": true
   },
   "outputs": [],
   "source": [
    "predicted_baseline_no2 = baseline_model_no2.predict(X_no2)\n",
    "#predicted_pres = np.reshape(predicted_pres, (predicted_pres.size,))"
   ]
  },
  {
   "cell_type": "code",
   "execution_count": 60,
   "metadata": {},
   "outputs": [],
   "source": [
    "rescaled_predicted = scaler_no2.inverse_transform(predicted_baseline_no2)\n",
    "actual_val = test_set[['NO2']].values[1:]"
   ]
  },
  {
   "cell_type": "code",
   "execution_count": 61,
   "metadata": {},
   "outputs": [
    {
     "data": {
      "text/plain": [
       "Text(0, 0.5, 'Actual Value')"
      ]
     },
     "execution_count": 61,
     "metadata": {},
     "output_type": "execute_result"
    },
    {
     "data": {
      "image/png": "[encoded data removed]",
      "text/plain": [
       "<Figure size 432x288 with 1 Axes>"
      ]
     },
     "metadata": {
      "needs_background": "light"
     },
     "output_type": "display_data"
    }
   ],
   "source": [
    "plt.scatter(rescaled_predicted, actual_val)\n",
    "plt.title(\"[NO2] Baseline Test: Predicted Result vs Actual Test-Set Result\")\n",
    "plt.xlabel(\"Predicted Value\")\n",
    "plt.ylabel(\"Actual Value\")"
   ]
  },
  {
   "cell_type": "code",
   "execution_count": 62,
   "metadata": {},
   "outputs": [
    {
     "data": {
      "text/plain": [
       "'mse = 148.43233022305066 & mae = 7.478577385772324 & rmse = 12.183280765994464'"
      ]
     },
     "execution_count": 62,
     "metadata": {},
     "output_type": "execute_result"
    }
   ],
   "source": [
    "validate_prediction(rescaled_predicted, actual_val)"
   ]
  },
  {
   "cell_type": "code",
   "execution_count": null,
   "metadata": {},
   "outputs": [],
   "source": []
  }
 ],
 "metadata": {
  "kernelspec": {
   "display_name": "Python 3",
   "language": "python",
   "name": "python3"
  },
  "language_info": {
   "codemirror_mode": {
    "name": "ipython",
    "version": 3
   },
   "file_extension": ".py",
   "mimetype": "text/x-python",
   "name": "python",
   "nbconvert_exporter": "python",
   "pygments_lexer": "ipython3",
   "version": "3.7.3"
  }
 },
 "nbformat": 4,
 "nbformat_minor": 2
}
