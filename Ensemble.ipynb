{
 "cells": [
  {
   "cell_type": "markdown",
   "metadata": {},
   "source": [
    "## Ensemble Method"
   ]
  },
  {
   "cell_type": "code",
   "execution_count": 34,
   "metadata": {},
   "outputs": [],
   "source": [
    "import pandas as pd\n",
    "import numpy as np\n",
    "import joblib\n",
    "\n",
    "import matplotlib.pyplot as plt\n",
    "from sklearn.preprocessing import MinMaxScaler\n",
    "from keras.models import Sequential, load_model"
   ]
  },
  {
   "cell_type": "code",
   "execution_count": 24,
   "metadata": {},
   "outputs": [],
   "source": [
    "#Loading KNN Models\n",
    "knn_pm25 = joblib.load(\"data/model/knn_pm2.5.joblib\", mmap_mode ='r')\n",
    "knn_no2 = joblib.load(\"data/model/knn_no2.joblib\", mmap_mode ='r')"
   ]
  },
  {
   "cell_type": "code",
   "execution_count": 3,
   "metadata": {},
   "outputs": [],
   "source": [
    "#Loading Forecasting Models \n",
    "model_co = load_model('data/model/simple_rnn_co.rnn')\n",
    "model_o3 = load_model('data/model/simple_rnn_o3.rnn')\n",
    "model_so2 = load_model('data/model/simple_rnn_so2.rnn')\n",
    "model_temp = load_model('data/model/simple_rnn_temp.rnn')\n",
    "model_dewp = load_model('data/model/simple_rnn_dewp.rnn')\n",
    "model_pres = load_model('data/model/simple_rnn_pres.rnn')\n",
    "model_wspm = load_model('data/model/simple_rnn_wspm.rnn')"
   ]
  },
  {
   "cell_type": "code",
   "execution_count": 4,
   "metadata": {},
   "outputs": [],
   "source": [
    "dataset = joblib.load('data/cleaned/unnormalized_Wanshouxigong.joblib')"
   ]
  },
  {
   "cell_type": "code",
   "execution_count": 7,
   "metadata": {},
   "outputs": [],
   "source": [
    "test_set = dataset[28000:]\n",
    "test_set = test_set[['PM2.5', 'SO2', 'NO2', 'CO', 'O3', 'TEMP', 'PRES', 'DEWP', 'WSPM']]"
   ]
  },
  {
   "cell_type": "code",
   "execution_count": 8,
   "metadata": {},
   "outputs": [],
   "source": [
    "def build_scaler(dataset, feature_col=\"SO2\"):\n",
    "    dataset = dataset[[feature_col]]\n",
    "    series = dataset[feature_col].values\n",
    "    values = series.reshape(-1, 1)\n",
    "    scaler = MinMaxScaler(feature_range=(-1, 1))\n",
    "    values = scaler.fit_transform(values)\n",
    "    return scaler\n",
    "\n",
    "def prepare(dataset, feature_col=\"SO2\"):\n",
    "    dataset = dataset[[feature_col]]\n",
    "    series = dataset[feature_col].values\n",
    "    values = series.reshape(-1, 1)\n",
    "    scaler = MinMaxScaler(feature_range=(-1, 1))\n",
    "    values = scaler.fit_transform(values)\n",
    "    X = values[:-1]\n",
    "    y = values[1:]\n",
    "    \n",
    "    return X, y\n",
    "\n",
    "def get_scaler(dataset, feature_col=\"SO2\"):\n",
    "    dataset = dataset[[feature_col]]\n",
    "    series = dataset[feature_col].values\n",
    "    values = series.reshape(-1, 1)\n",
    "    scaler = MinMaxScaler(feature_range=(-1, 1))\n",
    "    values = scaler.fit_transform(values)\n",
    "    return scaler\n",
    "    \n",
    "def rebuild_dataframe(scalers, values, cols):\n",
    "    df = pd.DataFrame()\n",
    "    for idx, value in enumerate(values):\n",
    "        df[cols[idx]] = scalers[idx].inverse_transform(value).flatten()\n",
    "        \n",
    "    return df\n",
    "\n",
    "def reshape(sequence):\n",
    "    return sequence.reshape(sequence.shape[0], sequence.shape[1], 1)"
   ]
  },
  {
   "cell_type": "code",
   "execution_count": 9,
   "metadata": {},
   "outputs": [],
   "source": [
    "# Preparing Vectors\n",
    "X_o3, y_o3 = prepare(test_set, \"O3\")\n",
    "X_so2, y_so2 = prepare(test_set, \"SO2\")\n",
    "X_co, y_co = prepare(test_set, \"CO\")\n",
    "X_temp, y_temp = prepare(test_set, \"TEMP\")\n",
    "X_pres, y_pres = prepare(test_set, \"PRES\")\n",
    "X_dewp, y_dewp = prepare(test_set, \"DEWP\")\n",
    "X_wspm, y_wspm = prepare(test_set, \"WSPM\")"
   ]
  },
  {
   "cell_type": "code",
   "execution_count": 10,
   "metadata": {},
   "outputs": [],
   "source": [
    "# Reshaping\n",
    "X_o3 = reshape(X_o3)\n",
    "X_so2 = reshape(X_so2)\n",
    "X_co = reshape(X_co)\n",
    "X_temp = reshape(X_temp)\n",
    "X_pres = reshape(X_pres)\n",
    "X_dewp = reshape(X_dewp)\n",
    "X_wspm = reshape(X_wspm)"
   ]
  },
  {
   "cell_type": "code",
   "execution_count": 11,
   "metadata": {},
   "outputs": [],
   "source": [
    "# Getting Predictions\n",
    "\n",
    "predicted_o3 = model_o3.predict(X_o3)\n",
    "#predicted_o3 = np.reshape(predicted_o3, (predicted_o3.size,))\n",
    "\n",
    "predicted_so2 = model_so2.predict(X_so2)\n",
    "#predicted_so2 = np.reshape(predicted_so2, (predicted_so2.size,))\n",
    "\n",
    "predicted_co = model_co.predict(X_co)\n",
    "#predicted_co = np.reshape(predicted_co, (predicted_co.size,))\n",
    "\n",
    "predicted_temp = model_temp.predict(X_temp)\n",
    "#predicted_temp = np.reshape(predicted_temp, (predicted_temp.size,))\n",
    "\n",
    "predicted_dewp = model_dewp.predict(X_dewp)\n",
    "#predicted_dewp = np.reshape(predicted_dewp, (predicted_dewp.size,))\n",
    "\n",
    "predicted_wspm = model_wspm.predict(X_wspm)\n",
    "#predicted_wspm = np.reshape(predicted_wspm, (predicted_wspm.size,))\n",
    "\n",
    "predicted_pres = model_pres.predict(X_pres)\n",
    "#predicted_pres = np.reshape(predicted_pres, (predicted_pres.size,))"
   ]
  },
  {
   "cell_type": "code",
   "execution_count": 12,
   "metadata": {},
   "outputs": [],
   "source": [
    "scaler_o3 = get_scaler(dataset, feature_col=\"O3\")\n",
    "scaler_co = get_scaler(dataset, feature_col=\"CO\")\n",
    "scaler_so2 = get_scaler(dataset, feature_col=\"SO2\")\n",
    "scaler_temp = get_scaler(dataset, feature_col=\"TEMP\")\n",
    "scaler_dewp = get_scaler(dataset, feature_col=\"DEWP\")\n",
    "scaler_wspm = get_scaler(dataset, feature_col=\"WSPM\")\n",
    "scaler_pres = get_scaler(dataset, feature_col=\"PRES\")"
   ]
  },
  {
   "cell_type": "code",
   "execution_count": 13,
   "metadata": {},
   "outputs": [],
   "source": [
    "scalers = [scaler_so2, scaler_co, scaler_o3, scaler_temp, scaler_pres, scaler_dewp]\n",
    "predicted = [predicted_so2, predicted_co, predicted_o3, predicted_temp, predicted_pres, predicted_dewp]\n",
    "cols = ['SO2', 'CO', 'O3', 'TEMP', 'PRES', 'DEWP']\n",
    "predicted_df = rebuild_dataframe(scalers, predicted, cols)"
   ]
  },
  {
   "cell_type": "code",
   "execution_count": 21,
   "metadata": {},
   "outputs": [],
   "source": [
    "X = predicted_df.values\n",
    "scaler = MinMaxScaler(feature_range=(-1, 1))\n",
    "X = scaler.fit_transform(predicted_df)"
   ]
  },
  {
   "cell_type": "code",
   "execution_count": 25,
   "metadata": {},
   "outputs": [],
   "source": [
    "predicted_pm25 = knn_pm25.predict(X)"
   ]
  },
  {
   "cell_type": "code",
   "execution_count": 27,
   "metadata": {},
   "outputs": [],
   "source": [
    "scaler_pm25 = get_scaler(dataset, feature_col=\"PM2.5\")\n",
    "rescaled = scaler_pm25.inverse_transform(predicted_pm25)"
   ]
  },
  {
   "cell_type": "code",
   "execution_count": 28,
   "metadata": {},
   "outputs": [
    {
     "data": {
      "text/plain": [
       "array([[41.78571429],\n",
       "       [41.78571429],\n",
       "       [51.85714286],\n",
       "       ...,\n",
       "       [14.57142857],\n",
       "       [10.14285714],\n",
       "       [ 6.71428571]])"
      ]
     },
     "execution_count": 28,
     "metadata": {},
     "output_type": "execute_result"
    }
   ],
   "source": [
    "rescaled"
   ]
  },
  {
   "cell_type": "code",
   "execution_count": 30,
   "metadata": {},
   "outputs": [],
   "source": [
    "actual_val = test_set[['PM2.5']].values"
   ]
  },
  {
   "cell_type": "code",
   "execution_count": 60,
   "metadata": {},
   "outputs": [
    {
     "data": {
      "text/plain": [
       "7063"
      ]
     },
     "execution_count": 60,
     "metadata": {},
     "output_type": "execute_result"
    }
   ],
   "source": [
    "p = actual_val[1:]\n",
    "len(p)"
   ]
  },
  {
   "cell_type": "code",
   "execution_count": 61,
   "metadata": {},
   "outputs": [
    {
     "data": {
      "text/plain": [
       "7063"
      ]
     },
     "execution_count": 61,
     "metadata": {},
     "output_type": "execute_result"
    }
   ],
   "source": [
    "len(rescaled)"
   ]
  },
  {
   "cell_type": "code",
   "execution_count": 62,
   "metadata": {},
   "outputs": [
    {
     "data": {
      "text/plain": [
       "<matplotlib.collections.PathCollection at 0x1a3d520128>"
      ]
     },
     "execution_count": 62,
     "metadata": {},
     "output_type": "execute_result"
    },
    {
     "data": {
      "image/png": "[encoded data removed]",
      "text/plain": [
       "<Figure size 432x288 with 1 Axes>"
      ]
     },
     "metadata": {
      "needs_background": "light"
     },
     "output_type": "display_data"
    }
   ],
   "source": [
    "plt.scatter(rescaled, p)"
   ]
  },
  {
   "cell_type": "code",
   "execution_count": 63,
   "metadata": {},
   "outputs": [],
   "source": [
    "from sklearn.metrics import mean_squared_error\n",
    "from sklearn.metrics import mean_absolute_error\n",
    "from math import sqrt\n",
    "\n",
    "def validate_prediction(y, y_pred):\n",
    "    mse = mean_squared_error(y, y_pred)\n",
    "    mae = mean_absolute_error(y, y_pred)\n",
    "\n",
    "    return \"mse = {mse} & mae = {mae} & rmse = {rmse}\".format(mse=mse, mae=mae, rmse=sqrt(mse))"
   ]
  },
  {
   "cell_type": "code",
   "execution_count": 64,
   "metadata": {},
   "outputs": [
    {
     "data": {
      "text/plain": [
       "'mse = 2714.303266246471 & mae = 33.29974428986831 & rmse = 52.0989756736778'"
      ]
     },
     "execution_count": 64,
     "metadata": {},
     "output_type": "execute_result"
    }
   ],
   "source": [
    "validate_prediction(rescaled, p)"
   ]
  },
  {
   "cell_type": "code",
   "execution_count": null,
   "metadata": {},
   "outputs": [],
   "source": []
  }
 ],
 "metadata": {
  "kernelspec": {
   "display_name": "Python 3",
   "language": "python",
   "name": "python3"
  },
  "language_info": {
   "codemirror_mode": {
    "name": "ipython",
    "version": 3
   },
   "file_extension": ".py",
   "mimetype": "text/x-python",
   "name": "python",
   "nbconvert_exporter": "python",
   "pygments_lexer": "ipython3",
   "version": "3.7.3"
  }
 },
 "nbformat": 4,
 "nbformat_minor": 2
}
