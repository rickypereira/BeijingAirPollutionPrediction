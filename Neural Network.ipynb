{
 "cells": [
  {
   "cell_type": "markdown",
   "metadata": {},
   "source": [
    "# Neural Networks"
   ]
  },
  {
   "cell_type": "code",
   "execution_count": 214,
   "metadata": {},
   "outputs": [],
   "source": [
    "from pathlib import Path\n",
    "import pandas as pd\n",
    "import numpy as np\n",
    "import pandas_profiling\n",
    "import matplotlib.pyplot as plt\n",
    "import warnings\n",
    "warnings.simplefilter(action = 'ignore', category = FutureWarning)\n",
    "from sklearn.preprocessing import MinMaxScaler\n",
    "\n",
    "from keras.preprocessing.sequence import TimeseriesGenerator\n",
    "from keras.models import Sequential\n",
    "from keras.layers import Dense, LSTM, SimpleRNN\n",
    "from tensorflow.keras import regularizers\n",
    "from keras.callbacks import ModelCheckpoint, EarlyStopping\n",
    "from keras.models import model_from_json\n",
    "from keras.optimizers import Adam\n",
    "\n",
    "from sklearn.metrics import mean_squared_error\n",
    "from sklearn.metrics import mean_absolute_error"
   ]
  },
  {
   "cell_type": "code",
   "execution_count": 6,
   "metadata": {},
   "outputs": [],
   "source": [
    "import joblib"
   ]
  },
  {
   "cell_type": "code",
   "execution_count": 163,
   "metadata": {},
   "outputs": [],
   "source": [
    "### Loading up Variables:\n",
    "def get_unsplit_data(city):\n",
    "    return joblib.load(\"data/full_splits/{}.joblib\".format( city))\n",
    "\n",
    "def idx2CityName(idx):\n",
    "    mapping = {0 : 'Aotizhongxin', \n",
    "     1 : 'Changping',\n",
    "     2 : 'Dingling',\n",
    "     3 : 'Dongsi',\n",
    "     4 : 'Guanyuan',\n",
    "     5 : 'Gucheng',\n",
    "     6 : 'Huairou',\n",
    "     7 : 'Nongzhanguan',\n",
    "     8 : 'Shunyi',\n",
    "     9 : 'Tiantan',\n",
    "     10 : 'Wanliu',\n",
    "     11 : 'Wanshouxigong'}\n",
    "    \n",
    "    return mapping[idx]\n",
    "\n",
    "def cityName2Idx(cityName):\n",
    "    mapping = {'Aotizhongxin' : 0, \n",
    "     'Changping' : 1,\n",
    "     'Dingling' : 2,\n",
    "     'Dongsi' : 3,\n",
    "     'Guanyuan' : 4,\n",
    "     'Gucheng' : 5,\n",
    "     'Huairou' : 6,\n",
    "     'Nongzhanguan' : 7,\n",
    "     'Shunyi' : 8,\n",
    "     'Tiantan' : 9,\n",
    "     'Wanliu' : 10,\n",
    "     'Wanshouxigong' : 11}\n",
    "    \n",
    "    return mapping[cityName]\n",
    "\n",
    "def split(df, resp_col):\n",
    "    cols = df.columns\n",
    "    pred_cols = [pred_col for pred_col in cols if pred_col is not resp_col]\n",
    "    X = df[pred_cols]\n",
    "    y = df[resp_col]\n",
    "    return X, y\n",
    "\n",
    "def perform_grid_search_cross_validation(model, X_train, y_train, grid_param, scoring='accuracy', cv=5, n_jobs=1):\n",
    "    gd_sr = GridSearchCV(estimator=model, param_grid=grid_param, scoring=scoring, cv=cv, n_jobs=n_jobs)\n",
    "    gd_sr.fit(X_train, y_train)\n",
    "    return gd_sr.best_params_\n",
    "    \n",
    "\n",
    "def validate_prediction(y, y_pred):\n",
    "    mse = mean_squared_error(y, y_pred)\n",
    "    mae = mean_absolute_error(y, y_pred)\n",
    "\n",
    "    return \"mse = {mse} & mae = {mae} & rmse = {rmse}\".format(mse=mse, mae=mae, rmse=sqrt(mse))\n",
    "\n",
    "\n",
    "def create_feed(X, y):\n",
    "    seqs = []\n",
    "    cols = X.columns\n",
    "    for col in cols:\n",
    "        seq = X[col].values.astype('float32')\n",
    "        seq = seq.reshape((len(seq), 1))\n",
    "        seqs.append(seq)\n",
    "    seq = y.values.astype('float32')\n",
    "    seq = seq.reshape((len(seq), 1))\n",
    "    seqs.append(seq)\n",
    "        \n",
    "    return (np.hstack(tuple(seqs)), seq)"
   ]
  },
  {
   "cell_type": "markdown",
   "metadata": {},
   "source": [
    "## Simple Recurrent NN for Univariate Forcasting"
   ]
  },
  {
   "cell_type": "code",
   "execution_count": 88,
   "metadata": {},
   "outputs": [],
   "source": [
    "dfs = []\n",
    "for idx in range(0,12):\n",
    "    df = get_unsplit_data(idx2CityName(idx))\n",
    "    df.set_index(['timestamp'], inplace=True)\n",
    "    dfs.append(df)"
   ]
  },
  {
   "cell_type": "code",
   "execution_count": 178,
   "metadata": {},
   "outputs": [],
   "source": [
    "# DF == Wanshouxigong\n",
    "train = df.query('timestamp < \"2015-07-01\"')\n",
    "valid = df.query('timestamp >= \"2015-07-01\" and timestamp < \"2016-05-01\"')\n",
    "test = df.query('timestamp >= \"2016-05-01\"')\n",
    "\n",
    "cols = train.columns\n",
    "train_idx = train.index\n",
    "valid_idx = valid.index\n",
    "test_idx = test.index\n",
    "\n",
    "train = pd.DataFrame(train, columns=cols, index=train_idx)\n",
    "valid = pd.DataFrame(valid, columns=cols, index=valid_idx)\n",
    "test = pd.DataFrame(test, columns=cols, index=test_idx)"
   ]
  },
  {
   "cell_type": "code",
   "execution_count": 179,
   "metadata": {},
   "outputs": [],
   "source": [
    "train_y= train[['SO2']]\n",
    "valid_y = valid[['SO2']]\n",
    "test_y = test[['SO2']]\n",
    "\n",
    "wd_dummies = pd.get_dummies(train['wd'])\n",
    "train.drop(['wd', 'station', 'SO2'], inplace=True, axis=1)\n",
    "train = pd.concat([train, wd_dummies],axis=1)\n",
    "\n",
    "wd_dummies = pd.get_dummies(valid['wd'])\n",
    "valid.drop(['wd', 'station', 'SO2'], inplace=True, axis=1)\n",
    "valid = pd.concat([valid, wd_dummies], axis=1)\n",
    "\n",
    "wd_dummies = pd.get_dummies(test['wd'])\n",
    "test.drop(['wd', 'station', 'SO2'], inplace=True, axis=1)\n",
    "test = pd.concat([test, wd_dummies], axis=1)"
   ]
  },
  {
   "cell_type": "code",
   "execution_count": 180,
   "metadata": {},
   "outputs": [],
   "source": [
    "train_feed, train_feed_y = create_feed(train, train_y)\n",
    "valid_feed, valid_feed_y = create_feed(valid, valid_y)\n",
    "test_feed, test_feed_y = create_feed(test, test_y)"
   ]
  },
  {
   "cell_type": "markdown",
   "metadata": {},
   "source": [
    "### Univariate Forcasting:  SO2"
   ]
  },
  {
   "cell_type": "code",
   "execution_count": 196,
   "metadata": {},
   "outputs": [],
   "source": [
    "def plot_loss(history, title):\n",
    "    plt.figure(figsize=(10,6))\n",
    "    plt.plot(history.history['loss'], label='Train')\n",
    "    plt.plot(history.history['val_loss'], label='Validation')\n",
    "    plt.title(title)\n",
    "    plt.xlabel('Nb Epochs')\n",
    "    plt.ylabel('Loss')\n",
    "    plt.legend()\n",
    "    plt.show()\n",
    "    \n",
    "    val_loss = history.history['val_loss']\n",
    "    min_idx = np.argmin(val_loss)\n",
    "    min_val_loss = val_loss[min_idx]\n",
    "    print('Minimum validation loss of {} reached at epoch {}'.format(min_val_loss, min_idx))\n",
    "    \n",
    "def plot_accuracy(history, title):\n",
    "    plt.figure(figsize=(10,6))\n",
    "    plt.plot(history.history['accuracy'], label='Train')\n",
    "    plt.plot(history.history['val_accuracy'], label='Validation')\n",
    "    plt.title(title)\n",
    "    plt.xlabel('Nb Epochs')\n",
    "    plt.ylabel('Accuracy')\n",
    "    plt.legend()\n",
    "    plt.show()\n",
    "    #['accuracy', 'loss', 'val_accuracy', 'val_loss']\n",
    "    \n",
    "    val_loss = history.history['val_accuracy']\n",
    "    min_idx = np.argmin(val_loss)\n",
    "    min_val_loss = val_loss[min_idx]\n",
    "    print('Minimum validation loss of {} reached at epoch {}'.format(min_val_loss, min_idx))"
   ]
  },
  {
   "cell_type": "code",
   "execution_count": 220,
   "metadata": {},
   "outputs": [],
   "source": [
    "n_features = train_feed.shape[1]\n",
    "n_lag = 10 ##Observations 15 days prior -> predict current\n",
    "train_data_gen = TimeseriesGenerator(train_feed, train_feed_y, length=n_lag, sampling_rate=1, stride=1, batch_size = 5)\n",
    "valid_data_gen = TimeseriesGenerator(valid_feed, valid_feed_y, length=n_lag, sampling_rate=1, stride=1, batch_size = 1)\n",
    "test_data_gen = TimeseriesGenerator(test_feed, test_feed_y, length=n_lag, sampling_rate=1, stride=1, batch_size = 1)"
   ]
  },
  {
   "cell_type": "code",
   "execution_count": 221,
   "metadata": {},
   "outputs": [
    {
     "data": {
      "image/png": "[encoded data removed]",
      "text/plain": [
       "<Figure size 720x432 with 1 Axes>"
      ]
     },
     "metadata": {
      "needs_background": "light"
     },
     "output_type": "display_data"
    },
    {
     "name": "stdout",
     "output_type": "stream",
     "text": [
      "Minimum validation loss of 4.1848870750982314e-06 reached at epoch 54\n"
     ]
    }
   ],
   "source": [
    "REGULARIZATION_RATE = 0.01\n",
    "simple_rnn = Sequential()\n",
    "simple_rnn.add(SimpleRNN(4, input_shape=(n_lag, n_features), \n",
    "                         activity_regularizer=regularizers.l1_l2(REGULARIZATION_RATE, REGULARIZATION_RATE)))\n",
    "simple_rnn.add(Dense(1))\n",
    "adam = Adam(lr=0.0001)\n",
    "simple_rnn.compile(loss='mse', optimizer=adam)\n",
    "\n",
    "checkpointer = ModelCheckpoint(filepath='data/model/simple_rnn_weights.hdf5'\n",
    "                               , verbose=0\n",
    "                               , save_best_only=True)\n",
    "earlystopper = EarlyStopping(monitor='val_loss'\n",
    "                             , patience=10\n",
    "                             , verbose=0)\n",
    "with open(\"data/model/simple_rnn.json\", \"w\") as m:\n",
    "    m.write(simple_rnn.to_json())\n",
    "\n",
    "simple_rnn_history = simple_rnn.fit_generator(train_data_gen\n",
    "                                              , epochs=100\n",
    "                                              , validation_data=valid_data_gen\n",
    "                                              , verbose=0\n",
    "                                              , callbacks=[checkpointer, earlystopper])\n",
    "plot_loss(simple_rnn_history, 'SimpleRNN - Train & Validation Loss')"
   ]
  },
  {
   "cell_type": "code",
   "execution_count": 202,
   "metadata": {},
   "outputs": [],
   "source": [
    "y_pred = simple_rnn.predict_generator(test_data_gen)"
   ]
  },
  {
   "cell_type": "code",
   "execution_count": 203,
   "metadata": {},
   "outputs": [],
   "source": [
    "d = test_y.values.astype('float32')"
   ]
  },
  {
   "cell_type": "code",
   "execution_count": 207,
   "metadata": {},
   "outputs": [
    {
     "ename": "ValueError",
     "evalue": "Found input variables with inconsistent numbers of samples: [7296, 7281]",
     "output_type": "error",
     "traceback": [
      "\u001b[0;31m---------------------------------------------------------------------------\u001b[0m",
      "\u001b[0;31mValueError\u001b[0m                                Traceback (most recent call last)",
      "\u001b[0;32m<ipython-input-207-bdc22c60b3a8>\u001b[0m in \u001b[0;36m<module>\u001b[0;34m\u001b[0m\n\u001b[0;32m----> 1\u001b[0;31m \u001b[0mvalidate_prediction\u001b[0m\u001b[0;34m(\u001b[0m\u001b[0md\u001b[0m\u001b[0;34m,\u001b[0m \u001b[0my_pred\u001b[0m\u001b[0;34m)\u001b[0m\u001b[0;34m\u001b[0m\u001b[0;34m\u001b[0m\u001b[0m\n\u001b[0m",
      "\u001b[0;32m<ipython-input-163-21c50924faaa>\u001b[0m in \u001b[0;36mvalidate_prediction\u001b[0;34m(y, y_pred)\u001b[0m\n\u001b[1;32m     49\u001b[0m \u001b[0;34m\u001b[0m\u001b[0m\n\u001b[1;32m     50\u001b[0m \u001b[0;32mdef\u001b[0m \u001b[0mvalidate_prediction\u001b[0m\u001b[0;34m(\u001b[0m\u001b[0my\u001b[0m\u001b[0;34m,\u001b[0m \u001b[0my_pred\u001b[0m\u001b[0;34m)\u001b[0m\u001b[0;34m:\u001b[0m\u001b[0;34m\u001b[0m\u001b[0;34m\u001b[0m\u001b[0m\n\u001b[0;32m---> 51\u001b[0;31m     \u001b[0mmse\u001b[0m \u001b[0;34m=\u001b[0m \u001b[0mmean_squared_error\u001b[0m\u001b[0;34m(\u001b[0m\u001b[0my\u001b[0m\u001b[0;34m,\u001b[0m \u001b[0my_pred\u001b[0m\u001b[0;34m)\u001b[0m\u001b[0;34m\u001b[0m\u001b[0;34m\u001b[0m\u001b[0m\n\u001b[0m\u001b[1;32m     52\u001b[0m     \u001b[0mmae\u001b[0m \u001b[0;34m=\u001b[0m \u001b[0mmean_absolute_error\u001b[0m\u001b[0;34m(\u001b[0m\u001b[0my\u001b[0m\u001b[0;34m,\u001b[0m \u001b[0my_pred\u001b[0m\u001b[0;34m)\u001b[0m\u001b[0;34m\u001b[0m\u001b[0;34m\u001b[0m\u001b[0m\n\u001b[1;32m     53\u001b[0m \u001b[0;34m\u001b[0m\u001b[0m\n",
      "\u001b[0;32m/usr/local/anaconda3/lib/python3.7/site-packages/sklearn/metrics/regression.py\u001b[0m in \u001b[0;36mmean_squared_error\u001b[0;34m(y_true, y_pred, sample_weight, multioutput)\u001b[0m\n\u001b[1;32m    239\u001b[0m     \"\"\"\n\u001b[1;32m    240\u001b[0m     y_type, y_true, y_pred, multioutput = _check_reg_targets(\n\u001b[0;32m--> 241\u001b[0;31m         y_true, y_pred, multioutput)\n\u001b[0m\u001b[1;32m    242\u001b[0m     \u001b[0mcheck_consistent_length\u001b[0m\u001b[0;34m(\u001b[0m\u001b[0my_true\u001b[0m\u001b[0;34m,\u001b[0m \u001b[0my_pred\u001b[0m\u001b[0;34m,\u001b[0m \u001b[0msample_weight\u001b[0m\u001b[0;34m)\u001b[0m\u001b[0;34m\u001b[0m\u001b[0;34m\u001b[0m\u001b[0m\n\u001b[1;32m    243\u001b[0m     output_errors = np.average((y_true - y_pred) ** 2, axis=0,\n",
      "\u001b[0;32m/usr/local/anaconda3/lib/python3.7/site-packages/sklearn/metrics/regression.py\u001b[0m in \u001b[0;36m_check_reg_targets\u001b[0;34m(y_true, y_pred, multioutput)\u001b[0m\n\u001b[1;32m     75\u001b[0m \u001b[0;34m\u001b[0m\u001b[0m\n\u001b[1;32m     76\u001b[0m     \"\"\"\n\u001b[0;32m---> 77\u001b[0;31m     \u001b[0mcheck_consistent_length\u001b[0m\u001b[0;34m(\u001b[0m\u001b[0my_true\u001b[0m\u001b[0;34m,\u001b[0m \u001b[0my_pred\u001b[0m\u001b[0;34m)\u001b[0m\u001b[0;34m\u001b[0m\u001b[0;34m\u001b[0m\u001b[0m\n\u001b[0m\u001b[1;32m     78\u001b[0m     \u001b[0my_true\u001b[0m \u001b[0;34m=\u001b[0m \u001b[0mcheck_array\u001b[0m\u001b[0;34m(\u001b[0m\u001b[0my_true\u001b[0m\u001b[0;34m,\u001b[0m \u001b[0mensure_2d\u001b[0m\u001b[0;34m=\u001b[0m\u001b[0;32mFalse\u001b[0m\u001b[0;34m)\u001b[0m\u001b[0;34m\u001b[0m\u001b[0;34m\u001b[0m\u001b[0m\n\u001b[1;32m     79\u001b[0m     \u001b[0my_pred\u001b[0m \u001b[0;34m=\u001b[0m \u001b[0mcheck_array\u001b[0m\u001b[0;34m(\u001b[0m\u001b[0my_pred\u001b[0m\u001b[0;34m,\u001b[0m \u001b[0mensure_2d\u001b[0m\u001b[0;34m=\u001b[0m\u001b[0;32mFalse\u001b[0m\u001b[0;34m)\u001b[0m\u001b[0;34m\u001b[0m\u001b[0;34m\u001b[0m\u001b[0m\n",
      "\u001b[0;32m/usr/local/anaconda3/lib/python3.7/site-packages/sklearn/utils/validation.py\u001b[0m in \u001b[0;36mcheck_consistent_length\u001b[0;34m(*arrays)\u001b[0m\n\u001b[1;32m    203\u001b[0m     \u001b[0;32mif\u001b[0m \u001b[0mlen\u001b[0m\u001b[0;34m(\u001b[0m\u001b[0muniques\u001b[0m\u001b[0;34m)\u001b[0m \u001b[0;34m>\u001b[0m \u001b[0;36m1\u001b[0m\u001b[0;34m:\u001b[0m\u001b[0;34m\u001b[0m\u001b[0;34m\u001b[0m\u001b[0m\n\u001b[1;32m    204\u001b[0m         raise ValueError(\"Found input variables with inconsistent numbers of\"\n\u001b[0;32m--> 205\u001b[0;31m                          \" samples: %r\" % [int(l) for l in lengths])\n\u001b[0m\u001b[1;32m    206\u001b[0m \u001b[0;34m\u001b[0m\u001b[0m\n\u001b[1;32m    207\u001b[0m \u001b[0;34m\u001b[0m\u001b[0m\n",
      "\u001b[0;31mValueError\u001b[0m: Found input variables with inconsistent numbers of samples: [7296, 7281]"
     ]
    }
   ],
   "source": [
    "validate_prediction(d, y_pred)"
   ]
  },
  {
   "cell_type": "code",
   "execution_count": 198,
   "metadata": {},
   "outputs": [
    {
     "name": "stdout",
     "output_type": "stream",
     "text": [
      "Loss on test data for simple_rnn : 0.00402029138058424\n"
     ]
    }
   ],
   "source": [
    "def eval_best_model(model):\n",
    "    # Load model architecture from JSON\n",
    "    model_architecture = open('data/model/'+model+'.json', 'r')\n",
    "    best_model = model_from_json(model_architecture.read())\n",
    "    model_architecture.close()\n",
    "    # Load best model's weights\n",
    "    best_model.load_weights('data/model/'+model+'_weights.hdf5')\n",
    "    # Compile the best model\n",
    "    best_model.compile(loss='mae', optimizer=RMSprop())\n",
    "    # Evaluate on test data\n",
    "    perf_best_model = best_model.evaluate_generator(test_data_gen)\n",
    "    print('Loss on test data for {} : {}'.format(model, perf_best_model))\n",
    "\n",
    "eval_best_model('simple_rnn')"
   ]
  },
  {
   "cell_type": "code",
   "execution_count": null,
   "metadata": {},
   "outputs": [],
   "source": []
  }
 ],
 "metadata": {
  "kernelspec": {
   "display_name": "Python 3",
   "language": "python",
   "name": "python3"
  },
  "language_info": {
   "codemirror_mode": {
    "name": "ipython",
    "version": 3
   },
   "file_extension": ".py",
   "mimetype": "text/x-python",
   "name": "python",
   "nbconvert_exporter": "python",
   "pygments_lexer": "ipython3",
   "version": "3.7.3"
  }
 },
 "nbformat": 4,
 "nbformat_minor": 2
}
